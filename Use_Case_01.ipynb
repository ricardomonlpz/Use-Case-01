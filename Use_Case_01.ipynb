{
 "cells": [
  {
   "cell_type": "code",
   "execution_count": 2,
   "id": "5ad6349a",
   "metadata": {},
   "outputs": [
    {
     "name": "stdout",
     "output_type": "stream",
     "text": [
      "       1818  1  01  1818.001   -1  -1.0  0\n",
      "0      1818  1   2  1818.004   -1  -1.0  0\n",
      "1      1818  1   3  1818.007   -1  -1.0  0\n",
      "2      1818  1   4  1818.010   -1  -1.0  0\n",
      "3      1818  1   5  1818.012   -1  -1.0  0\n",
      "4      1818  1   6  1818.015   -1  -1.0  0\n",
      "...     ... ..  ..       ...  ...   ... ..\n",
      "75081  2023  7  27  2023.568  145  15.1  8\n",
      "75082  2023  7  28  2023.571  164  18.6  7\n",
      "75083  2023  7  29  2023.574  179  17.9  3\n",
      "75084  2023  7  30  2023.577  180  16.4  6\n",
      "75085  2023  7  31  2023.579  183  21.3  9\n",
      "\n",
      "[75086 rows x 7 columns]\n"
     ]
    }
   ],
   "source": [
    "#Importación de libreria\n",
    "import pandas as pd\n",
    "\n",
    "# Importamos los datos del archivo csv\n",
    "CN_tot = pd.read_fwf(r'C:\\Users\\ricar.DESKTOP-RC3UGI9\\CienciaDatos_Python_V5\\data\\challenge\\SN_d_tot_V2.0.txt')\n",
    "print(CN_tot)"
   ]
  },
  {
   "cell_type": "code",
   "execution_count": 3,
   "id": "169f9cfd",
   "metadata": {},
   "outputs": [
    {
     "name": "stdout",
     "output_type": "stream",
     "text": [
      "<class 'pandas.core.frame.DataFrame'>\n",
      "RangeIndex: 75086 entries, 0 to 75085\n",
      "Data columns (total 7 columns):\n",
      " #   Column    Non-Null Count  Dtype  \n",
      "---  ------    --------------  -----  \n",
      " 0   1818      75086 non-null  int64  \n",
      " 1   1         75086 non-null  int64  \n",
      " 2   01        75086 non-null  int64  \n",
      " 3   1818.001  75086 non-null  float64\n",
      " 4   -1        75086 non-null  int64  \n",
      " 5   -1.0      75086 non-null  float64\n",
      " 6   0         75086 non-null  int64  \n",
      "dtypes: float64(2), int64(5)\n",
      "memory usage: 4.0 MB\n"
     ]
    }
   ],
   "source": [
    "CN_tot.info()"
   ]
  },
  {
   "cell_type": "code",
   "execution_count": 4,
   "id": "7975dd6a",
   "metadata": {},
   "outputs": [
    {
     "data": {
      "text/html": [
       "<div>\n",
       "<style scoped>\n",
       "    .dataframe tbody tr th:only-of-type {\n",
       "        vertical-align: middle;\n",
       "    }\n",
       "\n",
       "    .dataframe tbody tr th {\n",
       "        vertical-align: top;\n",
       "    }\n",
       "\n",
       "    .dataframe thead th {\n",
       "        text-align: right;\n",
       "    }\n",
       "</style>\n",
       "<table border=\"1\" class=\"dataframe\">\n",
       "  <thead>\n",
       "    <tr style=\"text-align: right;\">\n",
       "      <th></th>\n",
       "      <th>Año</th>\n",
       "      <th>Mes</th>\n",
       "      <th>Dia</th>\n",
       "      <th>Fecha_decimal</th>\n",
       "      <th>Marchas_solares_diarias</th>\n",
       "      <th>Desviación_estandar</th>\n",
       "      <th>Número_de_observaciones</th>\n",
       "    </tr>\n",
       "  </thead>\n",
       "  <tbody>\n",
       "    <tr>\n",
       "      <th>0</th>\n",
       "      <td>1818</td>\n",
       "      <td>1</td>\n",
       "      <td>2</td>\n",
       "      <td>1818.004</td>\n",
       "      <td>-1</td>\n",
       "      <td>-1.0</td>\n",
       "      <td>0</td>\n",
       "    </tr>\n",
       "    <tr>\n",
       "      <th>1</th>\n",
       "      <td>1818</td>\n",
       "      <td>1</td>\n",
       "      <td>3</td>\n",
       "      <td>1818.007</td>\n",
       "      <td>-1</td>\n",
       "      <td>-1.0</td>\n",
       "      <td>0</td>\n",
       "    </tr>\n",
       "    <tr>\n",
       "      <th>2</th>\n",
       "      <td>1818</td>\n",
       "      <td>1</td>\n",
       "      <td>4</td>\n",
       "      <td>1818.010</td>\n",
       "      <td>-1</td>\n",
       "      <td>-1.0</td>\n",
       "      <td>0</td>\n",
       "    </tr>\n",
       "    <tr>\n",
       "      <th>3</th>\n",
       "      <td>1818</td>\n",
       "      <td>1</td>\n",
       "      <td>5</td>\n",
       "      <td>1818.012</td>\n",
       "      <td>-1</td>\n",
       "      <td>-1.0</td>\n",
       "      <td>0</td>\n",
       "    </tr>\n",
       "    <tr>\n",
       "      <th>4</th>\n",
       "      <td>1818</td>\n",
       "      <td>1</td>\n",
       "      <td>6</td>\n",
       "      <td>1818.015</td>\n",
       "      <td>-1</td>\n",
       "      <td>-1.0</td>\n",
       "      <td>0</td>\n",
       "    </tr>\n",
       "    <tr>\n",
       "      <th>...</th>\n",
       "      <td>...</td>\n",
       "      <td>...</td>\n",
       "      <td>...</td>\n",
       "      <td>...</td>\n",
       "      <td>...</td>\n",
       "      <td>...</td>\n",
       "      <td>...</td>\n",
       "    </tr>\n",
       "    <tr>\n",
       "      <th>75081</th>\n",
       "      <td>2023</td>\n",
       "      <td>7</td>\n",
       "      <td>27</td>\n",
       "      <td>2023.568</td>\n",
       "      <td>145</td>\n",
       "      <td>15.1</td>\n",
       "      <td>8</td>\n",
       "    </tr>\n",
       "    <tr>\n",
       "      <th>75082</th>\n",
       "      <td>2023</td>\n",
       "      <td>7</td>\n",
       "      <td>28</td>\n",
       "      <td>2023.571</td>\n",
       "      <td>164</td>\n",
       "      <td>18.6</td>\n",
       "      <td>7</td>\n",
       "    </tr>\n",
       "    <tr>\n",
       "      <th>75083</th>\n",
       "      <td>2023</td>\n",
       "      <td>7</td>\n",
       "      <td>29</td>\n",
       "      <td>2023.574</td>\n",
       "      <td>179</td>\n",
       "      <td>17.9</td>\n",
       "      <td>3</td>\n",
       "    </tr>\n",
       "    <tr>\n",
       "      <th>75084</th>\n",
       "      <td>2023</td>\n",
       "      <td>7</td>\n",
       "      <td>30</td>\n",
       "      <td>2023.577</td>\n",
       "      <td>180</td>\n",
       "      <td>16.4</td>\n",
       "      <td>6</td>\n",
       "    </tr>\n",
       "    <tr>\n",
       "      <th>75085</th>\n",
       "      <td>2023</td>\n",
       "      <td>7</td>\n",
       "      <td>31</td>\n",
       "      <td>2023.579</td>\n",
       "      <td>183</td>\n",
       "      <td>21.3</td>\n",
       "      <td>9</td>\n",
       "    </tr>\n",
       "  </tbody>\n",
       "</table>\n",
       "<p>75086 rows × 7 columns</p>\n",
       "</div>"
      ],
      "text/plain": [
       "        Año  Mes  Dia  Fecha_decimal  Marchas_solares_diarias  \\\n",
       "0      1818    1    2       1818.004                       -1   \n",
       "1      1818    1    3       1818.007                       -1   \n",
       "2      1818    1    4       1818.010                       -1   \n",
       "3      1818    1    5       1818.012                       -1   \n",
       "4      1818    1    6       1818.015                       -1   \n",
       "...     ...  ...  ...            ...                      ...   \n",
       "75081  2023    7   27       2023.568                      145   \n",
       "75082  2023    7   28       2023.571                      164   \n",
       "75083  2023    7   29       2023.574                      179   \n",
       "75084  2023    7   30       2023.577                      180   \n",
       "75085  2023    7   31       2023.579                      183   \n",
       "\n",
       "       Desviación_estandar  Número_de_observaciones  \n",
       "0                     -1.0                        0  \n",
       "1                     -1.0                        0  \n",
       "2                     -1.0                        0  \n",
       "3                     -1.0                        0  \n",
       "4                     -1.0                        0  \n",
       "...                    ...                      ...  \n",
       "75081                 15.1                        8  \n",
       "75082                 18.6                        7  \n",
       "75083                 17.9                        3  \n",
       "75084                 16.4                        6  \n",
       "75085                 21.3                        9  \n",
       "\n",
       "[75086 rows x 7 columns]"
      ]
     },
     "execution_count": 4,
     "metadata": {},
     "output_type": "execute_result"
    }
   ],
   "source": [
    "CN_tot.columns = ['Año','Mes','Dia','Fecha_decimal','Marchas_solares_diarias','Desviación_estandar','Número_de_observaciones']\n",
    "CN_tot"
   ]
  },
  {
   "cell_type": "code",
   "execution_count": 6,
   "id": "f3bebaae",
   "metadata": {},
   "outputs": [],
   "source": [
    "#Converción de datos nulos a 0\n",
    "CN_tot['Marchas_solares_diarias']=CN_tot['Marchas_solares_diarias'].replace(-1,0)\n",
    "CN_tot['Desviación_estandar']=CN_tot['Desviación_estandar'].replace(-1,0)"
   ]
  },
  {
   "cell_type": "code",
   "execution_count": 9,
   "id": "6ed65254",
   "metadata": {},
   "outputs": [
    {
     "name": "stdout",
     "output_type": "stream",
     "text": [
      "Año\n",
      "1818     213\n",
      "1819     249\n",
      "1820     224\n",
      "1821     304\n",
      "1822     353\n",
      "        ... \n",
      "2019    1704\n",
      "2020    1640\n",
      "2021    1683\n",
      "2022    1648\n",
      "2023    1031\n",
      "Name: Número_de_observaciones, Length: 206, dtype: int64\n"
     ]
    }
   ],
   "source": [
    "observaciones_por_ano = CN_tot.groupby('Año')['Número_de_observaciones'].sum()\n",
    "print(observaciones_por_ano)"
   ]
  },
  {
   "cell_type": "code",
   "execution_count": 10,
   "id": "d692984f",
   "metadata": {},
   "outputs": [
    {
     "name": "stdout",
     "output_type": "stream",
     "text": [
      "Año\n",
      "1818    11276\n",
      "1819     9595\n",
      "1820     5428\n",
      "1821     2791\n",
      "1822     2208\n",
      "        ...  \n",
      "2019     1316\n",
      "2020     3226\n",
      "2021    10802\n",
      "2022    30376\n",
      "2023    28417\n",
      "Name: Marchas_solares_diarias, Length: 206, dtype: int64\n"
     ]
    }
   ],
   "source": [
    "marchas_por_ano = CN_tot.groupby('Año')['Marchas_solares_diarias'].sum()\n",
    "print(marchas_por_ano)"
   ]
  },
  {
   "cell_type": "code",
   "execution_count": 11,
   "id": "f0fbac0f",
   "metadata": {},
   "outputs": [
    {
     "name": "stdout",
     "output_type": "stream",
     "text": [
      "Año\n",
      "1818    1843.4\n",
      "1819    1772.7\n",
      "1820    1212.2\n",
      "1821    1038.9\n",
      "1822    1035.7\n",
      "         ...  \n",
      "2019      90.9\n",
      "2020     807.4\n",
      "2021    2493.3\n",
      "2022    4939.3\n",
      "2023    4174.1\n",
      "Name: Desviación_estandar, Length: 206, dtype: float64\n"
     ]
    }
   ],
   "source": [
    "promedio_desviacion_por_ano = CN_tot.groupby('Año')['Desviación_estandar'].sum()\n",
    "print(promedio_desviacion_por_ano)"
   ]
  }
 ],
 "metadata": {
  "kernelspec": {
   "display_name": "Python 3 (ipykernel)",
   "language": "python",
   "name": "python3"
  },
  "language_info": {
   "codemirror_mode": {
    "name": "ipython",
    "version": 3
   },
   "file_extension": ".py",
   "mimetype": "text/x-python",
   "name": "python",
   "nbconvert_exporter": "python",
   "pygments_lexer": "ipython3",
   "version": "3.11.4"
  }
 },
 "nbformat": 4,
 "nbformat_minor": 5
}
